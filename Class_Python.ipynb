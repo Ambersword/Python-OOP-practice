{
  "nbformat": 4,
  "nbformat_minor": 0,
  "metadata": {
    "colab": {
      "provenance": [],
      "toc_visible": true,
      "authorship_tag": "ABX9TyPhCnoAOYqwHAkRPd4w223v",
      "include_colab_link": true
    },
    "kernelspec": {
      "name": "python3",
      "display_name": "Python 3"
    },
    "language_info": {
      "name": "python"
    }
  },
  "cells": [
    {
      "cell_type": "markdown",
      "metadata": {
        "id": "view-in-github",
        "colab_type": "text"
      },
      "source": [
        "<a href=\"https://colab.research.google.com/github/Ambersword/Python-practice-/blob/main/Class_Python.ipynb\" target=\"_parent\"><img src=\"https://colab.research.google.com/assets/colab-badge.svg\" alt=\"Open In Colab\"/></a>"
      ]
    },
    {
      "cell_type": "code",
      "execution_count": null,
      "metadata": {
        "id": "gUEEc3wqQseS"
      },
      "outputs": [],
      "source": []
    },
    {
      "cell_type": "markdown",
      "source": [
        "9/24 Q1: class attributes, instance method and class method\n",
        "Create a Employee class, with raise_amount = 1.05 as class attribute, with name and salary as instance attribute, and a instance method that apply raise to each employee’s salary, a class method that set raise_amount for the employee class, with a static method checking whether today is workday.\n",
        "\n",
        "calculate the raised salary of John, with base salary of 50000,\n",
        "\n",
        "calculate the raised salary of Jane, with base salary of 60000,\n",
        "\n",
        "change raise_amount = 1.1\n",
        "\n",
        "recalculate the raised salary of Jane and John\n",
        "\n",
        "check if today is workday"
      ],
      "metadata": {
        "id": "k6kBPuYIQtHh"
      }
    },
    {
      "cell_type": "code",
      "source": [
        "from datetime import datetime\n",
        "\n",
        "class Employee:\n",
        "    raise_amount = 1.05\n",
        "\n",
        "    def __init__(self, name, salary):\n",
        "        self.name = name\n",
        "        self.salary = salary\n",
        "\n",
        "    def apply_raise(self):\n",
        "        self.salary = int(self.salary * self.raise_amount)\n",
        "\n",
        "    @classmethod\n",
        "    def set_raise_amount(cls, amount):\n",
        "        cls.raise_amount = amount\n",
        "\n",
        "    @staticmethod\n",
        "    def is_workday():\n",
        "        today = datetime.today().weekday()\n",
        "        return today <=4\n",
        "\n",
        "\n",
        "john = Employee(\"John\", 50000)\n",
        "jane = Employee(\"Jane\", 60000)\n",
        "\n",
        "\n",
        "john.apply_raise()\n",
        "jane.apply_raise()\n",
        "\n",
        "print(f\"John's raised salary: {john.salary}\")\n",
        "print(f\"Jane's raised salary: {jane.salary}\")\n",
        "\n",
        "\n",
        "Employee.set_raise_amount(1.1)\n",
        "\n",
        "\n",
        "john.apply_raise()\n",
        "jane.apply_raise()\n",
        "\n",
        "print(f\"John's new raised salary: {john.salary}\")\n",
        "print(f\"Jane's new raised salary: {jane.salary}\")\n",
        "print(f\"Is today a workday? {'Today is workday' if Employee.is_workday() else 'Not workday'}\")"
      ],
      "metadata": {
        "id": "OIX9IRjqQx6p"
      },
      "execution_count": null,
      "outputs": []
    },
    {
      "cell_type": "markdown",
      "source": [
        "9/25 Q2: abstract class\n",
        "Define Vehicle abstract base class with common attributes brand and model and an abstract method display_info().\n",
        "\n",
        "Car, Bike, and Truck are subclasses of Vehicle, and each has its own additional attributes (number_of_doors for Car, has_sidecar for Bike, and payload_capacity for Truck).\n",
        "\n",
        "Each subclass implements the display_info() method to return details specific to that subclass.\n",
        "\n",
        "Create 3 instances\n",
        "\n",
        "A Toyota, Camry car with 4 number_of_doors\n",
        "\n",
        "A Harley, Street 750 bike without sidecar\n",
        "\n",
        "A Ford, F-150 truck with 2.5 payload_capacity\n",
        "\n",
        "What is the benefit of using abstract class?"
      ],
      "metadata": {
        "id": "ZOzfjK5UQ2g1"
      }
    },
    {
      "cell_type": "code",
      "source": [
        "from abc import ABC, abstractmethod\n",
        "\n",
        "class Vehicle(ABC):\n",
        "  def __init__(self,brand,model):\n",
        "    self.brand=brand\n",
        "    self.model=model\n",
        "\n",
        "  @abstractmethod\n",
        "  def display_info(self):\n",
        "    pass\n",
        "\n",
        "class Car(Vehicle):\n",
        "  def __init__(self,brand,model,number_of_doors):\n",
        "    super().__init__(brand,model)\n",
        "    self.number_of_doors=number_of_doors\n",
        "  def display_info(self):\n",
        "    return f\"Car:{self.brand} {self.model}, number of doors: {self.number_of_doors}\"\n",
        "\n",
        "class Bike(Vehicle):\n",
        "  def __init__(self,brand,model,has_sidecar):\n",
        "    super().__init__(brand,model)\n",
        "    self.has_sidecar=has_sidecar\n",
        "\n",
        "  def display_info(self):\n",
        "    sidecar_status=\"with sidecar\" if self.has_sidecar else\" without sidecar\"\n",
        "    return f\"Bike:{self.brand} {self.model},{sidecar_status}\"\n",
        "\n",
        "class Truck(Vehicle):\n",
        "  def __init__(self,brand,model,payload_capacity):\n",
        "    super().__init__(brand,model)\n",
        "    self.payload_capacity=payload_capacity\n",
        "\n",
        "  def display_info(self):\n",
        "    return f\"Truck:{self.brand} {self.model},payload_capacity:{self.payload_capacity}\"\n",
        "\n",
        "car= Car(\"Toyota\",\"Camry\",4)\n",
        "bike=Bike(\"Hayley\",\"Street 750\",False)\n",
        "truck=Truck(\"Ford\",\"F-150\",2.5)\n",
        "\n",
        "print(car.display_info())\n",
        "print(bike.display_info())\n",
        "print(truck.display_info())"
      ],
      "metadata": {
        "id": "AK8UYVINQ59-"
      },
      "execution_count": null,
      "outputs": []
    },
    {
      "cell_type": "code",
      "source": [],
      "metadata": {
        "id": "JrF5jKzJQ_QN"
      },
      "execution_count": null,
      "outputs": []
    },
    {
      "cell_type": "code",
      "source": [
        "from abc import ABC, abstractmethod\n",
        "\n",
        "class Vehicle(ABC):\n",
        "    def __init__(self, brand, model):\n",
        "        self.brand = brand\n",
        "        self.model = model\n",
        "    @abstractmethod\n",
        "    def display_info(self):\n",
        "        pass\n",
        "\n",
        "class Car(Vehicle):\n",
        "  def __init__(self,brand,model,number_of_doors):\n",
        "    super().__init__(brand, model)\n",
        "    self.number_of_doors = number_of_doors\n",
        "\n",
        "  def display_info(self):\n",
        "    return self.brand,self.model,self.number_of_doors\n",
        "\n",
        "class Bike(Vehicle):\n",
        "  def __init__(self,brand,model,has_sidecar):\n",
        "    super().__init__(brand, model)\n",
        "    self.has_sidecar = has_sidecar\n",
        "\n",
        "  def display_info(self):\n",
        "    return self.brand,self.model,self.has_sidecar\n",
        "\n",
        "class Truck(Vehicle):\n",
        "  def __init__(self,brand,model,payload_capacity):\n",
        "    super().__init__(brand, model)\n",
        "    self.payload_capacity = payload_capacity\n",
        "\n",
        "  def display_info(self):\n",
        "    return self.brand,self.model,self.payload_capacity\n",
        "Toyota = Car('Toyota','Camry',4)\n",
        "print(Toyota.display_info())\n",
        "Harley = Bike('Harley','Street 750',False)\n",
        "print(Harley.display_info())\n",
        "Ford = Truck('Ford','F-150',2.5)\n",
        "print(Ford.display_info())"
      ],
      "metadata": {
        "id": "o8QkghKyAJlX"
      },
      "execution_count": null,
      "outputs": []
    },
    {
      "cell_type": "code",
      "source": [],
      "metadata": {
        "id": "s8uDsSWWRShl"
      },
      "execution_count": null,
      "outputs": []
    },
    {
      "cell_type": "markdown",
      "source": [
        "9/26 Q3: logging deccorator\n",
        "Define Calculator class, with a attribute of value, and a method of sum\n",
        "\n",
        "sum method will add any amount to the value.\n",
        "\n",
        "Create a logging decorator: suppose you want to log every time a method is called."
      ],
      "metadata": {
        "id": "ZvqQinu6Lskr"
      }
    },
    {
      "cell_type": "code",
      "source": [
        "import logging\n",
        "\n",
        "logging.basicConfig(level=logging.INFO)\n",
        "\n",
        "def log_method_call(func):\n",
        "    def wrapper(*args, **kwargs):\n",
        "        logging.info(f\"Calling method {func.__name__} with args: {args}, kwargs: {kwargs}\")\n",
        "        result = func(*args, **kwargs)\n",
        "        logging.info(f\"Method {func.__name__} returned: {result}\")\n",
        "        return result\n",
        "    return wrapper\n",
        "\n",
        "class Calculator:  # Class Definition: You need a class to hold the value attribute and the add method.\n",
        "    def __init__(self, value=0):\n",
        "        self.value = value\n",
        "\n",
        "    @log_method_call\n",
        "    def sum(self, amount):\n",
        "        self.value += amount\n",
        "        return self.value\n",
        "\n",
        "calc = Calculator()\n",
        "calc.sum(11)\n",
        "calc.sum(7)\n",
        "\n",
        "#A Number class is defined with an __init__ method to initialize the value attribute.\n",
        "#The add method is decorated with log_method_call to log its calls and results.\n",
        "#An instance of Number is created, and the add method is called on this instance."
      ],
      "metadata": {
        "id": "h-3kJ9_CLuaR"
      },
      "execution_count": null,
      "outputs": []
    },
    {
      "cell_type": "code",
      "source": [
        "\n",
        "import logging\n",
        "\n",
        "logging.basicConfig(level=logging.INFO)\n",
        "\n",
        "def log_method_call(func):\n",
        "    def wrapper(*args, **kwargs):\n",
        "        logging.info(f\"Calling method {func.__name__} with args: {args}, kwargs: {kwargs}\")\n",
        "        result = func(*args, **kwargs)\n",
        "        logging.info(f\"Method {func.__name__} returned: {result}\")\n",
        "        return result\n",
        "    return wrapper\n",
        "\n",
        "@log_method_call\n",
        "def add(a,b):\n",
        "   return a+b\n",
        "\n",
        "add(7,11)"
      ],
      "metadata": {
        "id": "oL4KmcdSQ2-l"
      },
      "execution_count": null,
      "outputs": []
    },
    {
      "cell_type": "code",
      "source": [
        "def log_decorator(func):\n",
        "    def log(*args):\n",
        "       import logging\n",
        "       logging.basicConfig(level='info')\n",
        "       logging.info(f\"Calling function: {func.__name__} \\n Arguments: {args}\")\n",
        "       result = func(*args)\n",
        "       logging.info(f\"Returned results: {result}\")\n",
        "       return result\n",
        "    return log\n",
        "\n",
        "class calculator(object):\n",
        "  def __init__(self,value):\n",
        "    self.value = value\n",
        "  @log_decorator\n",
        "  def sum(self,amount):\n",
        "    return self.value + amount\n",
        "\n",
        "\n",
        "c1 = calculator(1)\n",
        "c1.sum(c1.sum(c1.sum(100)))"
      ],
      "metadata": {
        "id": "AdUmmXyW5Z83"
      },
      "execution_count": null,
      "outputs": []
    }
  ]
}