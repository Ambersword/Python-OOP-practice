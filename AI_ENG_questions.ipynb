{
  "nbformat": 4,
  "nbformat_minor": 0,
  "metadata": {
    "colab": {
      "provenance": [],
      "include_colab_link": true
    },
    "kernelspec": {
      "name": "python3",
      "display_name": "Python 3"
    },
    "language_info": {
      "name": "python"
    }
  },
  "cells": [
    {
      "cell_type": "markdown",
      "metadata": {
        "id": "view-in-github",
        "colab_type": "text"
      },
      "source": [
        "<a href=\"https://colab.research.google.com/github/Ambersword/Python-OOP-practice/blob/main/AI_ENG_questions.ipynb\" target=\"_parent\"><img src=\"https://colab.research.google.com/assets/colab-badge.svg\" alt=\"Open In Colab\"/></a>"
      ]
    },
    {
      "cell_type": "markdown",
      "source": [
        "# 9/24 Q1: class attributes, instance method and class method\n",
        "Create a Employee class, with raise_amount = 1.05 as class attribute, with name and salary as instance attribute, and a instance method that apply raise to each employee’s salary, a class method that set raise_amount for the employee class, with a static method checking whether today is workday.\n",
        "\n",
        "calculate the raised salary of John, with base salary of 50000,\n",
        "\n",
        "calculate the raised salary of Jane, with base salary of 60000,\n",
        "\n",
        "change raise_amount = 1.1\n",
        "\n",
        "recalculate the raised salary of Jane and John\n",
        "\n",
        "check if today is workday"
      ],
      "metadata": {
        "id": "11dsv8cVWf-8"
      }
    },
    {
      "cell_type": "code",
      "execution_count": 3,
      "metadata": {
        "id": "oD1AY14xDUT5",
        "outputId": "4c39c4c5-f7ed-4d8a-891e-c2b430f915ea",
        "colab": {
          "base_uri": "https://localhost:8080/"
        }
      },
      "outputs": [
        {
          "output_type": "stream",
          "name": "stdout",
          "text": [
            "John's raised salary: 52500.0\n",
            "Jane's raised salary: 63000.0\n",
            "John's recalculated raised salary: 57750.00000000001\n",
            "Jane's recalculated raised salary: 69300.0\n"
          ]
        }
      ],
      "source": [
        "from datetime import datetime\n",
        "class Employee :\n",
        "  raise_amount=1.05\n",
        "\n",
        "  def __init__(self,name,salary):\n",
        "    self.name=name\n",
        "    self.salary=salary\n",
        "\n",
        "  def raise_salary (self):\n",
        "    self.salary*=self.raise_amount\n",
        "\n",
        "  @classmethod\n",
        "  def set_salary (new,amount):\n",
        "    new.raise_amount = amount\n",
        "\n",
        "  @staticmethod\n",
        "  def is_workday():\n",
        "    today=datetime.today().weekday()\n",
        "    return today <=4\n",
        "\n",
        "john = Employee(\"John\", 50000)\n",
        "jane = Employee(\"Jane\", 60000)\n",
        "\n",
        "john.raise_salary()\n",
        "jane.raise_salary()\n",
        "\n",
        "print(f\"John's raised salary: {john.salary}\")\n",
        "print(f\"Jane's raised salary: {jane.salary}\")\n",
        "\n",
        "Employee.set_salary(1.1)\n",
        "john.raise_salary()\n",
        "jane.raise_salary()\n",
        "\n",
        "print(f\"John's recalculated raised salary: {john.salary}\")\n",
        "print(f\"Jane's recalculated raised salary: {jane.salary}\")\n"
      ]
    }
  ]
}