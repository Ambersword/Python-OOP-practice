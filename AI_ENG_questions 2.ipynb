{
  "nbformat": 4,
  "nbformat_minor": 0,
  "metadata": {
    "colab": {
      "provenance": [],
      "include_colab_link": true
    },
    "kernelspec": {
      "name": "python3",
      "display_name": "Python 3"
    },
    "language_info": {
      "name": "python"
    }
  },
  "cells": [
    {
      "cell_type": "markdown",
      "metadata": {
        "id": "view-in-github",
        "colab_type": "text"
      },
      "source": [
        "<a href=\"https://colab.research.google.com/github/Ambersword/Python-OOP-practice/blob/main/AI_ENG_questions%202.ipynb\" target=\"_parent\"><img src=\"https://colab.research.google.com/assets/colab-badge.svg\" alt=\"Open In Colab\"/></a>"
      ]
    },
    {
      "cell_type": "markdown",
      "source": [
        "# 9/25 Q2: abstract class\n",
        "Define Vehicle abstract base class with common attributes brand and model\n",
        "and  an abstract method display_info().\n",
        "\n",
        "Car, Bike, and Truck are subclasses of Vehicle, and each has its own additional attributes (number_of_doors for Car, has_sidecar for Bike, and payload_capacity for Truck).\n",
        "\n",
        "Each subclass implements the display_info() method to return details specific to that subclass.\n",
        "\n",
        "Create 3 instances\n",
        "\n",
        "A Toyota, Camry car with 4 number_of_doors\n",
        "\n",
        "A Harley, Street 750 bike without sidecar\n",
        "\n",
        "A Ford, F-150 truck with 2.5 payload_capacity\n",
        "\n",
        "What is the benefit of using abstract class?"
      ],
      "metadata": {
        "id": "_13L5hw24BX_"
      }
    },
    {
      "cell_type": "code",
      "source": [
        "from abc import ABC, abstractmethod\n",
        "\n",
        "class Vehicle(ABC):\n",
        "    def __init__(self, brand, model):\n",
        "        self.first_name = first_name\n",
        "        self.last_name = last_name\n",
        "    @abstractmethod\n",
        "    def display_info(self):\n",
        "        pass\n",
        "\n",
        "class Car(Vehicle):\n",
        "\n"
      ],
      "metadata": {
        "id": "o8QkghKyAJlX"
      },
      "execution_count": null,
      "outputs": []
    },
    {
      "cell_type": "code",
      "source": [
        "#mandy\n",
        "from abc import ABC, abstractmethod\n",
        "\n",
        "class Vehicle(ABC):\n",
        "  def __init__(self,brand,model):\n",
        "    self.brand=brand\n",
        "    self.model=model\n",
        "\n",
        "  @abstractmethod\n",
        "  def display_info(self):\n",
        "    pass\n",
        "\n",
        "class Car(Vehicle):\n",
        "  def __init__(self,brand,model,number_of_doors):\n",
        "    super().__init__(brand,model)\n",
        "    self.number_of_doors=number_of_doors\n",
        "  def display_info(self):\n",
        "    return f\"Car:{self.brand} {self.model}, number of doors: {self.number_of_doors}\"\n",
        "\n",
        "class Bike(Vehicle):\n",
        "  def __init__(self,brand,model,has_sidecar):\n",
        "    super().__init__(brand,model)\n",
        "    self.has_sidecar=has_sidecar\n",
        "\n",
        "  def display_info(self):\n",
        "    sidecar_status=\"with sidecar\" if self.has_sidecar else\" without sidecar\"\n",
        "    return f\"Bike:{self.brand} {self.model},{sidecar_status}\"\n",
        "\n",
        "class Truck(Vehicle):\n",
        "  def __init__(self,brand,model,payload_capacity):\n",
        "    super().__init__(brand,model)\n",
        "    self.payload_capacity=payload_capacity\n",
        "\n",
        "  def display_info(self):\n",
        "    return f\"Truck:{self.brand} {self.model},payload_capacity:{self.payload_capacity}\"\n",
        "\n",
        "car= Car(\"Toyota\",\"Camry\",4)\n",
        "bike=Bike(\"Hayley\",\"Street 750\",False)\n",
        "truck=Truck(\"Ford\",\"F-150\",2.5)\n",
        "\n",
        "print(car.display_info())\n",
        "print(bike.display_info())\n",
        "print(truck.display_info())\n",
        "\n"
      ],
      "metadata": {
        "colab": {
          "base_uri": "https://localhost:8080/"
        },
        "id": "7aomL-OqCqOX",
        "outputId": "3010980c-48c2-434d-ea61-3dff49e9a537"
      },
      "execution_count": 4,
      "outputs": [
        {
          "output_type": "stream",
          "name": "stdout",
          "text": [
            "Car:Toyota Camry, number of doors: 4\n",
            "Bike:Hayley Street 750, without sidecar\n",
            "Truck:Ford F-150,payload_capacity:2.5\n"
          ]
        }
      ]
    },
    {
      "cell_type": "markdown",
      "source": [
        "# 9/24 Q1: class attributes, instance method and class method\n",
        "Create a Employee class, with raise_amount = 1.05 as class attribute, with name and salary as instance attribute, and a instance method that apply raise to each employee’s salary, a class method that set raise_amount for the employee class, with a static method checking whether today is workday.\n",
        "\n",
        "calculate the raised salary of John, with base salary of 50000,\n",
        "\n",
        "calculate the raised salary of Jane, with base salary of 60000,\n",
        "\n",
        "change raise_amount = 1.1\n",
        "\n",
        "recalculate the raised salary of Jane and John\n",
        "\n",
        "check if today is workday"
      ],
      "metadata": {
        "id": "11dsv8cVWf-8"
      }
    },
    {
      "cell_type": "code",
      "execution_count": null,
      "metadata": {
        "id": "oD1AY14xDUT5",
        "colab": {
          "base_uri": "https://localhost:8080/"
        },
        "outputId": "57dbb97c-25d0-4c77-fbaf-20833c0182a7"
      },
      "outputs": [
        {
          "output_type": "stream",
          "name": "stdout",
          "text": [
            "John raised salary: 52500\n",
            "Jane raised salary: 63000\n",
            "change raise_amount to 1.1\n",
            "John raised salary: 55000\n",
            "Jane raised salary: 66000\n",
            "Is today workday? True\n"
          ]
        }
      ],
      "source": [
        "\n",
        "import datetime\n",
        "\n",
        "class Employee:\n",
        "    raise_amount = 1.05 # class attributes\n",
        "\n",
        "    def __init__(self, name: str, salary: float):\n",
        "        self.name = name\n",
        "        self.salary = salary\n",
        "\n",
        "    # instance method - modify state on the object instance and on the class itself\n",
        "    def apply_raise(self):\n",
        "        return self.salary * self.raise_amount #  access the class itself through the self.__class__ attribute\n",
        "\n",
        "    # class method - modify state on the class itself\n",
        "    @classmethod\n",
        "    def set_raise_amount(cls, raise_amount: float):\n",
        "        cls.raise_amount = raise_amount\n",
        "\n",
        "    # static methods can neither access the object instance state nor the class state.\n",
        "    # They work like regular functions but belong to the class’s (and every instance’s) namespace.\n",
        "    @staticmethod\n",
        "    def is_workday():\n",
        "        return datetime.datetime.today().weekday() < 5\n",
        "\n",
        "\n",
        "john = Employee(name = 'John', salary = 50000)\n",
        "print(f'{john.name} raised salary: {round(john.apply_raise())}')\n",
        "\n",
        "jane = Employee(name = 'Jane', salary = 60000)\n",
        "print(f'{jane.name} raised salary: {round(jane.apply_raise())}')\n",
        "\n",
        "john.set_raise_amount(1.1)\n",
        "print('change raise_amount to 1.1')\n",
        "\n",
        "print(f'{john.name} raised salary: {round(john.apply_raise())}')\n",
        "print(f'{jane.name} raised salary: {round(jane.apply_raise())}')\n",
        "\n",
        "print(f\"Is today workday? {john.is_workday()}\")"
      ]
    },
    {
      "cell_type": "code",
      "source": [],
      "metadata": {
        "id": "WsEaNezV1Rxt"
      },
      "execution_count": null,
      "outputs": []
    }
  ]
}